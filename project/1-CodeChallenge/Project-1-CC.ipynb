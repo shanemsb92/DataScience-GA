{
 "cells": [
  {
   "cell_type": "markdown",
   "metadata": {},
   "source": [
    "<img src=\"http://imgur.com/1ZcRyrc.png\" style=\"float: left; margin: 20px; height: 55px\">\n",
    "\n",
    "# Project 1: Python Coding Exercises\n",
    "\n",
    "_Authors: Joseph Nelson (DC) _\n",
    "\n",
    "---"
   ]
  },
  {
   "cell_type": "markdown",
   "metadata": {},
   "source": [
    "The following code challenges are drawn from common exercises used in technical interviews.\n",
    "\n",
    "Note that there may be several ways to approach each challenge!"
   ]
  },
  {
   "cell_type": "markdown",
   "metadata": {},
   "source": [
    "### Challenge 1.1: Largest Palindrome\n",
    "A palindromic number reads the same both ways. For example, 1234321 is a palindrome. The largest palindrome made from the product of two two-digit numbers is 9009 = 91 × 99. Find the largest palindrome made from the product of two three-digit numbers."
   ]
  },
  {
   "cell_type": "code",
   "execution_count": null,
   "metadata": {
    "collapsed": true
   },
   "outputs": [],
   "source": [
    "#largest product of 2 three-digit number, xMax=999 & yMax=999\n",
    "largest_palindrome=0\n",
    "\n",
    "def palindrome_check(x):\n",
    "    y=str(x)                                  #convert int to string to compare char\n",
    "    yLen=len(y)                               #get length of string\n",
    "    for i in range ((yLen/2)+1):              #loop through the loop for half of the string\n",
    "        if (y[i] == y[(yLen-1)-i]):           #check if current char is the same \n",
    "            i+=1\n",
    "        else:\n",
    "            return False\n",
    "    return True\n",
    "\n",
    "for x in range(1,1000) :                      \n",
    "    for y in range(1,1000) :\n",
    "        z=x*y\n",
    "        if palindrome_check(z) :\n",
    "            if largest_palindrome<=z :\n",
    "                largest_palindrome=z\n",
    "print(largest_palindrome)"
   ]
  },
  {
   "cell_type": "markdown",
   "metadata": {},
   "source": [
    "\n",
    "### Challenge 1.2: Summation of Primes\n",
    "The sum of the primes below 10 is 2 + 3 + 5 + 7 = 17. Find the sum of all the primes below 2,000."
   ]
  },
  {
   "cell_type": "code",
   "execution_count": null,
   "metadata": {
    "collapsed": true
   },
   "outputs": [],
   "source": [
    "sum_of_all_primes=0\n",
    "\n",
    "def is_prime(x):\n",
    "    if x >= 2:\n",
    "        for y in range(2,x):                  #check through the range of numbers to find HCF\n",
    "            if not ( x % y ):\n",
    "                return False\n",
    "    else:\n",
    "        return False\n",
    "    return True\n",
    "\n",
    "for x in range(2,2000000):\n",
    "    if is_prime(x):\n",
    "        sum_of_all_primes += x\n",
    "\n",
    "print sum_of_all_primes"
   ]
  },
  {
   "cell_type": "markdown",
   "metadata": {},
   "source": [
    "### Challenge 1.3: Multiples of 3 and 5\n",
    "If we list all of the natural numbers below 10 that are multiples of 3 or 5, we get 3, 5, 6, and 9. The sum of these multiples is 23. Find the sum of all the multiples of 3 and 5 below 1,000."
   ]
  },
  {
   "cell_type": "code",
   "execution_count": null,
   "metadata": {
    "collapsed": true
   },
   "outputs": [],
   "source": [
    "sum_of_multiples=0\n",
    "\n",
    "for i in range(3,1000):\n",
    "    if not(i%3) and not(i%5):\n",
    "        sum_of_multiples+=i\n",
    "    elif not(i%3):\n",
    "        sum_of_multiples+=i\n",
    "    elif not(i%5):\n",
    "        sum_of_multiples+=i\n",
    "print sum_of_multiples"
   ]
  },
  {
   "cell_type": "markdown",
   "metadata": {},
   "source": [
    "### Challenge 2: FizzBuzz\n",
    "Write a program that prints all of the numbers from 1 to 100. For multiples of 3, instead of the number, print \"Fizz;\" for multiples of 5, print \"Buzz.\" For numbers that are multiples of both 3 and 5, print \"FizzBuzz.\" Bonus: If that's too easy, create three unique solutions. Sometimes you'll encounter unexpected constraints, so make sure you're able to think creatively!"
   ]
  },
  {
   "cell_type": "code",
   "execution_count": null,
   "metadata": {
    "collapsed": true
   },
   "outputs": [],
   "source": [
    "import time\n",
    "\n",
    "startA=time.time()\n",
    "#solution A\n",
    "for i in range(1,100):\n",
    "    if not(i%3) and not(i%5):\n",
    "        print(\"FizzBuzz\")\n",
    "    elif not(i%3):\n",
    "        print(\"Fizz\")\n",
    "    elif not(i%5):\n",
    "        print(\"Buzz\")\n",
    "    else:\n",
    "        print(i)\n",
    "endA=time.time()\n",
    "print ('Time for solution A : {}'.format(endA-startA))\n",
    "\n",
    "#solution B\n",
    "startB=time.time()\n",
    "word_list=[]\n",
    "for i in range(1,100):\n",
    "    if not(i%3) and not(i%5):\n",
    "        word_list.append(\"FizzBuzz\")\n",
    "    elif not(i%3):\n",
    "        word_list.append(\"Fizz\")\n",
    "    elif not(i%5):\n",
    "        word_list.append(\"Buzz\")\n",
    "    else:\n",
    "        word_list.append(i)\n",
    "print word_list\n",
    "endB=time.time()\n",
    "print ('Time for solution B : {}'.format(endB-startB))\n",
    "#solution C\n",
    "#LCM of 3 & 5 is 15. getting modulus of 15 reduces 1 additional condition to be met\n",
    "startC=time.time()\n",
    "word_list_b=[]\n",
    "for i in range(1,100):\n",
    "    if not(i%15):\n",
    "        word_list_b.append(\"FizzBuzz\")\n",
    "    elif not(i%3):\n",
    "        word_list_b.append(\"Fizz\")\n",
    "    elif not(i%5):\n",
    "        word_list_b.append(\"Buzz\")\n",
    "    else:\n",
    "        word_list_b.append(i)\n",
    "print word_list_b\n",
    "endC=time.time()\n",
    "print ('Time for solution C : {}'.format(endC-startC))\n",
    "\n",
    "#solution D\n",
    "#LCM of 3 & 5 is 15. getting modulus of 15 reduces 1 additional condition to be met\n",
    "startD=time.time()\n",
    "word_string=\"\"\n",
    "for i in range(1,100):\n",
    "    if not(i%15):\n",
    "        word_string+=\"FizzBuzz \"\n",
    "    elif not(i%3):\n",
    "        word_string+=\"Fizz \"\n",
    "    elif not(i%5):\n",
    "        word_string+=\"Buzz \"\n",
    "    else:\n",
    "        word_string+=str(i)+\" \"\n",
    "print word_string\n",
    "endD=time.time()\n",
    "print ('Time for solution D : {}'.format(endD-startD))"
   ]
  },
  {
   "cell_type": "markdown",
   "metadata": {},
   "source": [
    "### Challenge 3: String Compressor\n",
    "Implement a method to perform basic string compression using the counts of repeated characters. (This is called run-length encoding.) For example, the string \"aabcccccaaa\" would become a2b1c5a3. If the “compressed” string would not become smaller than the original string, your method should return the original string. You can assume the string has only uppercase and lowercase letters (a–z). Specify whether your solution is case sensitive or case insensitive and what you would need to change to make it the other."
   ]
  },
  {
   "cell_type": "code",
   "execution_count": null,
   "metadata": {
    "collapsed": true
   },
   "outputs": [],
   "source": [
    "#assuming this string only includes letters a-z and it is case sensitive\n",
    "\n",
    "def string_compressor(x):\n",
    "    new_xList=[]\n",
    "    dummy=''\n",
    "    count=1\n",
    "    for i in range(len(x)):\n",
    "        y=x[i]\n",
    "        #y=x[i].lower()        #uncomment this line to make solution case insensitive\n",
    "        if dummy != y:\n",
    "            dummy=y\n",
    "            if count>1:\n",
    "                new_xList.append(str(count))\n",
    "            new_xList.append(dummy)\n",
    "            count=1\n",
    "        else:\n",
    "            count+=1\n",
    "    print ''.join(new_xList)\n",
    "\n",
    "string_compressor('aab')"
   ]
  },
  {
   "cell_type": "code",
   "execution_count": null,
   "metadata": {},
   "outputs": [],
   "source": []
  }
 ],
 "metadata": {
  "anaconda-cloud": {},
  "kernelspec": {
   "display_name": "Python 2",
   "language": "python",
   "name": "python2"
  },
  "language_info": {
   "codemirror_mode": {
    "name": "ipython",
    "version": 2
   },
   "file_extension": ".py",
   "mimetype": "text/x-python",
   "name": "python",
   "nbconvert_exporter": "python",
   "pygments_lexer": "ipython2",
   "version": "2.7.14"
  }
 },
 "nbformat": 4,
 "nbformat_minor": 2
}
